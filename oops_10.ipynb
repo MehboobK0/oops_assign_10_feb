{
 "cells": [
  {
   "cell_type": "markdown",
   "id": "57c414b9",
   "metadata": {},
   "source": [
    "Q1. The function used to open a file in Python is open(). Different modes of opening a file are:\n",
    "\n",
    "r: Opens the file in read-only mode. The file pointer is placed at the beginning of the file. If the file does not exist, it raises a FileNotFoundError.\n",
    "w: Opens the file in write-only mode. If the file exists, it truncates the file to zero length. If the file does not exist, it creates a new file for writing.\n",
    "a: Opens the file in append mode. The file pointer is at the end of the file if the file exists. If the file does not exist, it creates a new file for writing.\n",
    "r+: Opens the file for reading and writing. The file pointer is placed at the beginning of the file.\n",
    "w+: Opens the file for reading and writing. It truncates the file to zero length if it exists. If the file does not exist, it creates a new file for reading and writing.\n",
    "a+: Opens the file for reading and appending. The file pointer is at the end of the file if the file exists. If the file does not exist, it creates a new file for reading and writing."
   ]
  },
  {
   "cell_type": "markdown",
   "id": "d34e8b98",
   "metadata": {},
   "source": [
    "Q2. The close() function is used to close the file that was opened using the open() function. It is important to close a file to release system resources and to ensure that all data is properly written to the file."
   ]
  },
  {
   "cell_type": "code",
   "execution_count": 29,
   "id": "42437001",
   "metadata": {},
   "outputs": [
    {
     "name": "stdout",
     "output_type": "stream",
     "text": [
      "I want to become a Data Scientist\n"
     ]
    }
   ],
   "source": [
    "# Q3. Python program to create a text file, write content to it, and read the content:\n",
    "\n",
    "# Create a text file and write content\n",
    "with open(\"data_scientist.txt\", \"w\") as file:\n",
    "    file.write(\"I want to become a Data Scientist\")\n",
    "\n",
    "# Open the file and read its content\n",
    "with open(\"data_scientist.txt\", \"r\") as file:\n",
    "    content = file.read()\n",
    "    print(content)\n"
   ]
  },
  {
   "cell_type": "markdown",
   "id": "9f334796",
   "metadata": {},
   "source": [
    "Q4. Explanation of read(), readline(), and readlines():\n",
    "\n",
    "read(): Reads the entire content of the file and returns it as a single string. If no size argument is provided, it reads until the end of the file. Example: content = file.read()\n",
    "readline(): Reads a single line from the file and returns it as a string. It moves the file pointer to the next line. Example: line = file.readline()\n",
    "readlines(): Reads all the lines from the file and returns them as a list of strings. Each string in the list represents a single line from the file. Example: lines = file.readlines()\n",
    "Q5. The with statement is used with open() to ensure that the file is properly closed after its suite finishes executing. The advantage of using with statement and open() together is that it automatically closes the file when the block of code inside with statement completes execution, even if an exception occurs.\n",
    "\n",
    "Q6. Explanation of write() and writelines():\n",
    "\n",
    "write(): Writes the specified string to the file. If the file does not exist, it creates a new file. If the file already exists, it truncates the file to zero length before writing. Example: file.write(\"Hello, world!\")\n",
    "writelines(): Writes a sequence of strings to the file. It does not add newline characters. Example: file.writelines([\"line1\\n\", \"line2\\n\", \"line3\\n\"])"
   ]
  },
  {
   "cell_type": "code",
   "execution_count": null,
   "id": "42374f40",
   "metadata": {},
   "outputs": [],
   "source": []
  }
 ],
 "metadata": {
  "kernelspec": {
   "display_name": "Python 3 (ipykernel)",
   "language": "python",
   "name": "python3"
  },
  "language_info": {
   "codemirror_mode": {
    "name": "ipython",
    "version": 3
   },
   "file_extension": ".py",
   "mimetype": "text/x-python",
   "name": "python",
   "nbconvert_exporter": "python",
   "pygments_lexer": "ipython3",
   "version": "3.9.12"
  }
 },
 "nbformat": 4,
 "nbformat_minor": 5
}
